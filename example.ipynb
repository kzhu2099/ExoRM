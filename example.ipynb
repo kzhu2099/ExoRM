{
 "cells": [
  {
   "cell_type": "code",
   "execution_count": null,
   "id": "ac417f98",
   "metadata": {},
   "outputs": [],
   "source": [
    "%load_ext autoreload\n",
    "%autoreload 2\n",
    "%xmode verbose"
   ]
  },
  {
   "cell_type": "code",
   "execution_count": null,
   "id": "8ce77b50",
   "metadata": {},
   "outputs": [],
   "source": [
    "# from ExoRM.get_data import get_data\n",
    "# get_data()\n",
    "\n",
    "# from ExoRM.initialize_model import initialize_model\n",
    "# initialize_model(kwargs = {'cores': 4}) # change as needed\n",
    "\n",
    "# Use these to initialize / update the model"
   ]
  },
  {
   "cell_type": "code",
   "execution_count": null,
   "id": "650c699b",
   "metadata": {},
   "outputs": [],
   "source": [
    "from ExoRM import ExoRM, read_rm_data, ForecasterRM, preprocess_data, read_exoplanet_data\n",
    "\n",
    "erm = ExoRM()\n",
    "erm.load_trace()\n",
    "\n",
    "import numpy\n",
    "import matplotlib.pyplot as plot\n",
    "import matplotlib\n",
    "import seaborn\n",
    "\n",
    "save = False # save the figures / csv to files\n",
    "plot.style.use('seaborn-v0_8-paper')\n",
    "seaborn.set_theme(style = 'white', context = 'paper')\n",
    "matplotlib.rcParams['figure.figsize'] = [4, 3]\n",
    "matplotlib.rcParams['axes.labelsize'] = 10  # Axis label font size\n",
    "matplotlib.rcParams['font.family'] = 'serif'\n",
    "matplotlib.rcParams['figure.dpi'] = 300\n",
    "matplotlib.rcParams['figure.constrained_layout.use'] = True\n",
    "\n",
    "matplotlib.rcParams['lines.markersize'] = 1.2  # Default marker size (scatter size)\n",
    "matplotlib.rcParams['lines.linewidth'] = 2   # Default line width\n",
    "\n",
    "path = 'Paper Material/ExoRM'\n",
    "\n",
    "data = read_rm_data()\n",
    "data = preprocess_data(data)\n",
    "data['length'] = data['name'].str.len()\n",
    "data.sort_values('length', inplace = True)\n",
    "data = data[['name', 'radius', 'mass', 'density']].reset_index(drop = True)\n",
    "data"
   ]
  },
  {
   "cell_type": "code",
   "execution_count": null,
   "id": "4b8cecb5",
   "metadata": {},
   "outputs": [],
   "source": [
    "p = data.iloc[0]\n",
    "p"
   ]
  },
  {
   "cell_type": "code",
   "execution_count": null,
   "id": "deb529b6",
   "metadata": {},
   "outputs": [],
   "source": [
    "ForecasterRM.log_mode = False\n",
    "\n",
    "e_m = erm.predict_linear([p['radius']])\n",
    "f_m = ForecasterRM.forecaster(p['radius'])\n",
    "\n",
    "e_m, f_m, p['mass']"
   ]
  },
  {
   "cell_type": "code",
   "execution_count": null,
   "id": "a92cc5cb",
   "metadata": {},
   "outputs": [],
   "source": [
    "# erm.save_defaults_to_other('premade_inputs.pkl', 'premade_trace.nc')\n",
    "# if you would like to put the saved inputs and saved trace elsewhere"
   ]
  }
 ],
 "metadata": {
  "kernelspec": {
   "display_name": ".venv",
   "language": "python",
   "name": "python3"
  },
  "language_info": {
   "codemirror_mode": {
    "name": "ipython",
    "version": 3
   },
   "file_extension": ".py",
   "mimetype": "text/x-python",
   "name": "python",
   "nbconvert_exporter": "python",
   "pygments_lexer": "ipython3",
   "version": "3.12.3"
  }
 },
 "nbformat": 4,
 "nbformat_minor": 5
}
