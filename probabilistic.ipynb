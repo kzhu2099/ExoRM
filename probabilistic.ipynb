{
 "cells": [
  {
   "cell_type": "code",
   "execution_count": null,
   "id": "86612aaf",
   "metadata": {},
   "outputs": [],
   "source": [
    "%load_ext autoreload\n",
    "%autoreload 2\n",
    "%xmode verbose"
   ]
  },
  {
   "cell_type": "code",
   "execution_count": null,
   "id": "a700e3a4",
   "metadata": {},
   "outputs": [],
   "source": [
    "import arviz as az\n",
    "import matplotlib.pyplot as plot\n",
    "import numpy"
   ]
  },
  {
   "cell_type": "code",
   "execution_count": null,
   "id": "51099598",
   "metadata": {},
   "outputs": [],
   "source": [
    "from ExoRM import numpy_nn_forward, read_rm_data, unique_radius, preprocess_data, init_model, ExoRM\n",
    "\n",
    "data = read_rm_data()\n",
    "data = unique_radius(data)\n",
    "data = preprocess_data(data)\n",
    "data"
   ]
  },
  {
   "cell_type": "code",
   "execution_count": null,
   "id": "98d67ab9",
   "metadata": {},
   "outputs": [],
   "source": [
    "_x = data['radius']\n",
    "_y = data['mass']\n",
    "\n",
    "x = numpy.log10(_x)\n",
    "y = numpy.log10(_y)\n",
    "\n",
    "x_upper = numpy.log10(_x + data['pl_radeerr1'])\n",
    "x_lower = numpy.log10(_x + data['pl_radeerr2'])\n",
    "x_err = numpy.maximum(x_upper - x, x - x_lower)\n",
    "\n",
    "y_upper = numpy.log10(_y + data['pl_bmasseerr1'])\n",
    "y_lower = numpy.log10(_y + data['pl_bmasseerr2'])\n",
    "y_err = numpy.maximum(y_upper - y, y - y_lower)\n",
    "\n",
    "x_obs = x\n",
    "y_true = y\n",
    "\n",
    "x, y, x_obs, y_true"
   ]
  },
  {
   "cell_type": "code",
   "execution_count": null,
   "id": "d837b350",
   "metadata": {},
   "outputs": [],
   "source": [
    "erm = ExoRM()\n",
    "erm.load_trace('best_trace.nc')\n",
    "erm"
   ]
  },
  {
   "cell_type": "code",
   "execution_count": null,
   "id": "ca3cf44d",
   "metadata": {},
   "outputs": [],
   "source": [
    "import os\n",
    "os.cpu_count()"
   ]
  },
  {
   "cell_type": "code",
   "execution_count": null,
   "id": "c4a11574",
   "metadata": {},
   "outputs": [],
   "source": [
    "# erm.create_trace(x_obs, x_err, y_true, y_err, cores = 4) # change cores as needed"
   ]
  },
  {
   "cell_type": "code",
   "execution_count": null,
   "id": "ca427664",
   "metadata": {},
   "outputs": [],
   "source": [
    "y_pred, lower, upper = erm.predict_full(x_obs, x_err)\n",
    "\n",
    "plot.scatter(x, y)\n",
    "plot.scatter(x, y_pred)\n",
    "plot.scatter(x, lower)\n",
    "plot.scatter(x, upper)\n",
    "plot.show()"
   ]
  },
  {
   "cell_type": "code",
   "execution_count": null,
   "id": "332e4b23",
   "metadata": {},
   "outputs": [],
   "source": [
    "x_new = numpy.linspace(x.min() - 0.1, x.max() + 0.1, 1000)\n",
    "\n",
    "y_pred, lower, upper = erm.predict_full(x_new)\n",
    "\n",
    "plot.scatter(x, y, s = 0.5)\n",
    "plot.scatter(x_new, y_pred, s = 0.5)\n",
    "plot.scatter(x_new, lower, s = 0.5)\n",
    "plot.scatter(x_new, upper, s = 0.5)\n",
    "plot.show()"
   ]
  },
  {
   "cell_type": "code",
   "execution_count": null,
   "id": "c1ac7761",
   "metadata": {},
   "outputs": [],
   "source": [
    "# erm.save_trace()"
   ]
  },
  {
   "cell_type": "code",
   "execution_count": null,
   "id": "b5e2452a",
   "metadata": {},
   "outputs": [],
   "source": [
    "erm2 = ExoRM()\n",
    "erm2.load_trace()\n",
    "\n",
    "x_new = numpy.linspace(x.min() - 0.25, x.max() + 0.5, 1000)\n",
    "\n",
    "y_pred, lower, upper = erm2.predict_full(x_new)\n",
    "\n",
    "plot.scatter(x, y)\n",
    "plot.scatter(x_new, y_pred)\n",
    "plot.scatter(x_new, lower)\n",
    "plot.scatter(x_new, upper)\n",
    "plot.show()"
   ]
  },
  {
   "cell_type": "code",
   "execution_count": null,
   "id": "7eb7aae1",
   "metadata": {},
   "outputs": [],
   "source": [
    "# az.summary(erm.trace, round_to=2).sort_values('ess_bulk').head(10)"
   ]
  },
  {
   "cell_type": "code",
   "execution_count": null,
   "id": "3bb3f4b3",
   "metadata": {},
   "outputs": [],
   "source": [
    "az.loo(erm.trace, pointwise = True)"
   ]
  },
  {
   "cell_type": "code",
   "execution_count": null,
   "id": "6e945e4a",
   "metadata": {},
   "outputs": [],
   "source": [
    "# erm.save_defaults_to_other('premade_inputs_nn_9.pkl', 'premade_trace_nn_9.nc')"
   ]
  },
  {
   "cell_type": "code",
   "execution_count": null,
   "id": "a0926191",
   "metadata": {},
   "outputs": [],
   "source": [
    "erm3 = ExoRM('pwlf')\n",
    "erm3.load_trace('best_linear.nc')\n",
    "erm3"
   ]
  },
  {
   "cell_type": "code",
   "execution_count": null,
   "id": "57830645",
   "metadata": {},
   "outputs": [],
   "source": [
    "x_new = numpy.linspace(x.min() - 0.1, x.max() + 0.1, 1000)\n",
    "\n",
    "y_pred, lower, upper = [numpy.log10(_) for _ in erm.predict_full_linear(10 ** x_new)]\n",
    "\n",
    "plot.scatter(x, y, s = 0.5, c = 'C0', label = 'true')\n",
    "plot.plot(x_new, y_pred, c = 'C1', label = 'nn')\n",
    "plot.plot(x_new, lower, c = 'C2')\n",
    "plot.plot(x_new, upper, c = 'C2')\n",
    "\n",
    "y_pred2, lower2, upper2 = [numpy.log10(_) for _ in erm3.predict_full_linear(10 ** x_new)]\n",
    "\n",
    "plot.plot(x_new, y_pred2, c = 'C3', label = 'pwlf')\n",
    "plot.plot(x_new, lower2, c = 'C4')\n",
    "plot.plot(x_new, upper2, c = 'C4')\n",
    "\n",
    "plot.legend()\n",
    "plot.show()"
   ]
  },
  {
   "cell_type": "code",
   "execution_count": null,
   "id": "eea58a95",
   "metadata": {},
   "outputs": [],
   "source": [
    "x_min = erm.trace.posterior['_x_true'].values.min()\n",
    "x_max = erm.trace.posterior['_x_true'].values.max()\n",
    "x_grid = numpy.linspace(x_min, x_max, 1000)[:, None]"
   ]
  },
  {
   "cell_type": "code",
   "execution_count": null,
   "id": "bdb544de",
   "metadata": {},
   "outputs": [],
   "source": [
    "f_samples = []\n",
    "for i in range(100):  # or all draws\n",
    "    w1 = erm.trace.posterior['w1'].isel(draw=i, chain=0).values\n",
    "    b1 = erm.trace.posterior['b1'].isel(draw=i, chain=0).values\n",
    "    w2 = erm.trace.posterior['w2'].isel(draw=i, chain=0).values\n",
    "    b2 = erm.trace.posterior['b2'].isel(draw=i, chain=0).values\n",
    "    f_i = numpy_nn_forward(x_grid, w1, b1, w2, b2)\n",
    "    f_samples.append(f_i)\n",
    "\n",
    "# Ensure x_grid is a 1D array for gradient calculation\n",
    "x_grid_flat = x_grid.flatten()\n",
    "\n",
    "# Calculate slopes and slope changes for each sample\n",
    "all_slopes = []\n",
    "all_slope_changes = []\n",
    "\n",
    "for f_i in f_samples:\n",
    "    slopes_i = numpy.gradient(f_i.flatten(), x_grid_flat)\n",
    "    slope_change_i = numpy.gradient(slopes_i, x_grid_flat)\n",
    "    all_slopes.append(slopes_i)\n",
    "    all_slope_changes.append(slope_change_i)\n",
    "\n",
    "# Convert lists to NumPy arrays for easier manipulation\n",
    "all_slopes = numpy.array(all_slopes)\n",
    "all_slope_changes = numpy.array(all_slope_changes)\n",
    "all_slope_changes"
   ]
  },
  {
   "cell_type": "code",
   "execution_count": null,
   "id": "2d2348fa",
   "metadata": {},
   "outputs": [],
   "source": [
    "mean_slope_change = numpy.mean(all_slope_changes, axis=0)\n",
    "\n",
    "# Keep std_slope_change as a single scalar (mean of standard deviations across x-points)\n",
    "std_slope_change_global = numpy.std(all_slope_changes, axis=0).mean()\n",
    "\n",
    "# --- ADJUST THIS VALUE TO CONTROL THE NUMBER OF EVENTS ---\n",
    "threshold_multiplier = 1.0 # Try increasing this from 2.0 to 3.0, 4.0, 5.0, etc.\n",
    "\n",
    "significant_threshold = threshold_multiplier * std_slope_change_global\n",
    "\n",
    "significant_change_indices = numpy.where(numpy.abs(mean_slope_change) > significant_threshold)[0]\n",
    "\n",
    "print(\"--- Initial Identification ---\")\n",
    "print(\"Raw indices of significant slope changes:\")\n",
    "print(significant_change_indices)\n",
    "\n",
    "print(f\"Max absolute mean slope change: {numpy.abs(mean_slope_change).max():.4e}\")\n",
    "print(f\"Global standard deviation of slope changes (std_slope_change_global): {std_slope_change_global:.4e}\")\n",
    "print(f\"Calculated significant_threshold: {significant_threshold:.4e}\")\n",
    "print(f\"Number of individual points exceeding threshold: {len(significant_change_indices)}\")\n",
    "\n",
    "\n",
    "# --- Grouping Adjacent Indices into Events (allowing for small gaps) ---\n",
    "# Set a maximum allowable gap between indices to consider them part of the same event\n",
    "# For example, if max_gap_size = 1, [221, 222, 224] would group 221,222 but separate 224.\n",
    "# If max_gap_size = 2, [221, 222, 224] would group all three.\n",
    "max_gap_size = 10 # You can adjust this if needed, but try higher threshold_multiplier first.\n",
    "\n",
    "event_indices = []\n",
    "if len(significant_change_indices) > 0:\n",
    "    current_event = [significant_change_indices[0]]\n",
    "    for i in range(1, len(significant_change_indices)):\n",
    "        if (significant_change_indices[i] - significant_change_indices[i-1]) <= max_gap_size:\n",
    "            # If the current index is within the max_gap_size of the previous one, extend the current event\n",
    "            current_event.append(significant_change_indices[i])\n",
    "        else:\n",
    "            # If there's a gap larger than max_gap_size, start a new event\n",
    "            event_indices.append(current_event)\n",
    "            current_event = [significant_change_indices[i]]\n",
    "    event_indices.append(current_event) # Add the last event\n",
    "\n",
    "print(\"\\n--- Grouped Events ---\")\n",
    "print(f\"Grouped indices of significant slope change events (allowing gap of {max_gap_size}):\")\n",
    "for i, event_group in enumerate(event_indices):\n",
    "    print(f\"Event {i+1}: {event_group}\")\n",
    "print(f\"Number of grouped events: {len(event_indices)}\")\n",
    "\n",
    "\n",
    "# --- Reporting for Each Grouped Event ---\n",
    "final_events_report = []\n",
    "\n",
    "for event_group in event_indices:\n",
    "    # For each event, find the index with the maximum absolute mean slope change within that group\n",
    "    group_mean_slopes = numpy.abs(mean_slope_change[event_group])\n",
    "    peak_local_index = numpy.argmax(group_mean_slopes)\n",
    "    peak_global_index = event_group[peak_local_index]\n",
    "\n",
    "    x_peak_of_change = x_grid_flat[peak_global_index]\n",
    "\n",
    "    local_std_slope_change_at_peak = numpy.std(all_slope_changes, axis=0)[peak_global_index]\n",
    "    num_samples = all_slope_changes.shape[0]\n",
    "    sem_slope_change_at_peak = local_std_slope_change_at_peak / numpy.sqrt(num_samples)\n",
    "\n",
    "    z_score_95 = 1.96\n",
    "    ci_lower_at_peak = mean_slope_change[peak_global_index] - z_score_95 * sem_slope_change_at_peak\n",
    "    ci_upper_at_peak = mean_slope_change[peak_global_index] + z_score_95 * sem_slope_change_at_peak\n",
    "\n",
    "    x_interval_start = x_grid_flat[event_group[0]]\n",
    "    x_interval_end = x_grid_flat[event_group[-1]]\n",
    "\n",
    "    # Ensure approx_x_start/end don't go out of bounds\n",
    "    approx_x_start = x_grid_flat[max(0, event_group[0] - 1)]\n",
    "    approx_x_end = x_grid_flat[min(len(x_grid_flat) - 1, event_group[-1] + 1)]\n",
    "\n",
    "    final_events_report.append({\n",
    "        'peak_index': peak_global_index,\n",
    "        'x_peak': x_peak_of_change,\n",
    "        'mean_slope_change_at_peak': mean_slope_change[peak_global_index],\n",
    "        'std_error_at_peak': local_std_slope_change_at_peak,\n",
    "        'ci_95': (ci_lower_at_peak, ci_upper_at_peak),\n",
    "        'detected_x_interval_event': (x_interval_start, x_interval_end),\n",
    "        'reported_x_interval': (approx_x_start, approx_x_end)\n",
    "    })\n",
    "\n",
    "print(\"\\n--- Final Report for Significant Slope Change Events ---\")\n",
    "if not final_events_report:\n",
    "    print(\"No significant events detected with the current threshold.\")\n",
    "for i, event_data in enumerate(final_events_report):\n",
    "    print(f\"\\nEvent {i+1}:\")\n",
    "    print(f\"  Peak X value: {event_data['x_peak']:.4f} (Index: {event_data['peak_index']})\")\n",
    "    print(f\"  Mean Slope Change at Peak: {event_data['mean_slope_change_at_peak']:.4f}\")\n",
    "    print(f\"  Error (Std Dev) at Peak: {event_data['std_error_at_peak']:.4f}\")\n",
    "    print(f\"  95% CI at Peak: [{event_data['ci_95'][0]:.4f}, {event_data['ci_95'][1]:.4f}]\")\n",
    "    print(f\"  Detected X-interval of Event (from first to last index in group): [{event_data['detected_x_interval_event'][0]:.4f}, {event_data['detected_x_interval_event'][1]:.4f}]\")\n",
    "    print(f\"  Reported X and X' (approximate interval for paper): [{event_data['reported_x_interval'][0]:.4f}, {event_data['reported_x_interval'][1]:.4f}]\")"
   ]
  },
  {
   "cell_type": "code",
   "execution_count": null,
   "id": "350a22aa",
   "metadata": {},
   "outputs": [],
   "source": [
    "mean_slope_change = numpy.mean(all_slope_changes, axis = 0)\n",
    "\n",
    "std_slope_change = numpy.std(all_slope_changes, axis = 0)\n",
    "\n",
    "lower_bound_slope_change = numpy.percentile(all_slope_changes, 2.5, axis=0)\n",
    "upper_bound_slope_change = numpy.percentile(all_slope_changes, 97.5, axis=0)"
   ]
  },
  {
   "cell_type": "code",
   "execution_count": null,
   "id": "18a9184e",
   "metadata": {},
   "outputs": [],
   "source": [
    "plot.plot(x_grid_flat, mean_slope_change, label='Mean Slope Change', color='blue')\n",
    "plot.fill_between(x_grid_flat, lower_bound_slope_change, upper_bound_slope_change,\n",
    "                  color='blue', alpha=0.2, label='95% Credible Interval')\n",
    "plot.vlines([0.1917, 0.1494, 0.2245], -500, 500)\n",
    "plot.xlabel('x')\n",
    "plot.ylabel('Slope Change')\n",
    "plot.title('Mean Slope Change with 95% Credible Interval')\n",
    "plot.legend()\n",
    "plot.show()"
   ]
  }
 ],
 "metadata": {
  "kernelspec": {
   "display_name": ".venv",
   "language": "python",
   "name": "python3"
  },
  "language_info": {
   "codemirror_mode": {
    "name": "ipython",
    "version": 3
   },
   "file_extension": ".py",
   "mimetype": "text/x-python",
   "name": "python",
   "nbconvert_exporter": "python",
   "pygments_lexer": "ipython3",
   "version": "3.12.3"
  }
 },
 "nbformat": 4,
 "nbformat_minor": 5
}
