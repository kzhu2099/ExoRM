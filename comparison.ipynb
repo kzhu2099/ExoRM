{
 "cells": [
  {
   "cell_type": "code",
   "execution_count": null,
   "id": "ac417f98",
   "metadata": {},
   "outputs": [],
   "source": [
    "%load_ext autoreload\n",
    "%autoreload 2\n",
    "%xmode verbose"
   ]
  },
  {
   "cell_type": "code",
   "execution_count": null,
   "id": "8ce77b50",
   "metadata": {},
   "outputs": [],
   "source": [
    "# from ExoRM.get_data import get_data\n",
    "# get_data()\n",
    "\n",
    "# from ExoRM.initialize_model import initialize_model\n",
    "# initialize_model(kwargs = {'cores': 4}) # change as needed\n",
    "\n",
    "# Use these to initialize / update the model"
   ]
  },
  {
   "cell_type": "code",
   "execution_count": null,
   "id": "650c699b",
   "metadata": {},
   "outputs": [],
   "source": [
    "from ExoRM import read_rm_data, ForecasterRM, preprocess_data, ExoRM\n",
    "\n",
    "erm = ExoRM()\n",
    "erm.load_trace()\n",
    "\n",
    "import numpy\n",
    "import matplotlib.pyplot as plot\n",
    "import matplotlib\n",
    "import pandas\n",
    "import seaborn\n",
    "import math\n",
    "import time\n",
    "\n",
    "save = False # save the figures / csv to files\n",
    "plot.style.use('seaborn-v0_8-paper')\n",
    "seaborn.set_theme(style = 'white', context = 'paper')\n",
    "matplotlib.rcParams['figure.figsize'] = [4, 3]\n",
    "matplotlib.rcParams['axes.labelsize'] = 10  # Axis label font size\n",
    "matplotlib.rcParams['font.family'] = 'serif'\n",
    "matplotlib.rcParams['mathtext.fontset'] = 'cm'\n",
    "matplotlib.rcParams['figure.dpi'] = 500\n",
    "matplotlib.rcParams['figure.constrained_layout.use'] = True\n",
    "\n",
    "matplotlib.rcParams['lines.markersize'] = 1.2  # Default marker size (scatter size)\n",
    "matplotlib.rcParams['lines.linewidth'] = 2   # Default line width\n",
    "\n",
    "path = 'Paper Material/ExoRM'\n",
    "\n",
    "data = read_rm_data()\n",
    "data = preprocess_data(data)\n",
    "data = data[['name', 'radius', 'mass', 'density', 'error_score']]\n",
    "\n",
    "data"
   ]
  },
  {
   "cell_type": "code",
   "execution_count": null,
   "id": "39c36355",
   "metadata": {},
   "outputs": [],
   "source": [
    "columns = ['radius', 'mass']\n",
    "\n",
    "x = data['radius']\n",
    "y = data['mass']\n",
    "\n",
    "x = numpy.log10(x)\n",
    "y = numpy.log10(y)\n",
    "ax = seaborn.kdeplot(data, x = 'radius', y = 'mass', fill = True, cmap = 'Blues', levels = 20, cbar = True, log_scale = True)\n",
    "# seaborn.scatterplot(numpy.log10(data[columns]), x = 'radius', y = 'mass', s = 5, color = 'black', zorder = 2)\n",
    "# plot.gca().set_aspect('auto')\n",
    "\n",
    "# plot.xlim(-0.3, 1.6)\n",
    "# plot.ylim(-0.75, 4.25)\n",
    "\n",
    "plot.xlabel('Radius (R$_{\\\\oplus}$)')\n",
    "plot.ylabel('Mass (M$_{\\\\oplus}$)')\n",
    "plot.title('Exoplanet Radius-Mass Distribution')\n",
    "\n",
    "# if save: plot.savefig(f'{path}/Figure 1.jpeg')\n",
    "\n",
    "plot.show()"
   ]
  },
  {
   "cell_type": "code",
   "execution_count": null,
   "id": "0d94cbea",
   "metadata": {},
   "outputs": [],
   "source": [
    "xs = numpy.linspace(x.min() - 0.1, x.max() + 0.1, 1000)\n",
    "\n",
    "ms, lower, upper = erm.predict_full_linear(10 ** xs)\n",
    "ms2 = ForecasterRM.forecaster(xs)\n",
    "\n",
    "plot.scatter(10 ** x, 10 ** y)\n",
    "plot.plot(10 ** xs, ms, color = 'C1')\n",
    "plot.plot(10 ** xs, 10 ** ms2, '--', color = 'C2')\n",
    "\n",
    "plot.fill_between(10 ** xs, lower, upper, color = 'C1', alpha = 0.25)\n",
    "\n",
    "plot.legend(['target', 'ExoRM', 'Forecaster'])\n",
    "plot.xlabel('Radius (R$_{\\\\oplus}$)')\n",
    "plot.ylabel('Mass (M$_{\\\\oplus}$)')\n",
    "plot.title('Exoplanet Mass-Radius Relation')\n",
    "\n",
    "plot.loglog()\n",
    "\n",
    "if save: plot.savefig(f'{path}/Figure 2.jpeg')\n",
    "\n",
    "plot.show()"
   ]
  },
  {
   "cell_type": "code",
   "execution_count": null,
   "id": "40dbfee0",
   "metadata": {},
   "outputs": [],
   "source": [
    "m, l, u = erm.predict_full(x)\n",
    "out_error = len(x[(y < l) | (y > u)])\n",
    "1 - (out_error / len(x))"
   ]
  },
  {
   "cell_type": "code",
   "execution_count": null,
   "id": "ad07d7e8",
   "metadata": {},
   "outputs": [],
   "source": [
    "a = numpy.log10(5.51)  # Density of Earth in g / cm^3\n",
    "\n",
    "plot.scatter(10 ** x, 10 ** ((y - 3 * x) + a))\n",
    "ds = (numpy.log10(ms) - 3 * xs) + a\n",
    "ds2 = (ms2 - 3 * xs) + a\n",
    "plot.plot(10 ** xs, 10 ** ds, color = 'C1')\n",
    "plot.plot(10 ** xs, 10 ** ds2, '--', color = 'C2')\n",
    "\n",
    "plot.fill_between(10 ** xs,\n",
    "                  10 ** (((numpy.log10(lower)) - 3 * xs) + a),\n",
    "                  10 ** (((numpy.log10(upper)) - 3 * xs) + a),\n",
    "                  color = 'C1', alpha = 0.25)\n",
    "\n",
    "plot.legend(['target', 'ExoRM', 'Forecaster'])\n",
    "plot.xlabel('Radius (R$_{\\\\oplus}$)')\n",
    "plot.ylabel('Density (${\\\\frac{g}{cm^3}}$)')\n",
    "plot.title('Calculated Density-Radius Relation')\n",
    "\n",
    "plot.loglog()\n",
    "\n",
    "# if save: plot.savefig(f'{path}/Figure 4.jpeg')\n",
    "\n",
    "plot.show()"
   ]
  },
  {
   "cell_type": "code",
   "execution_count": null,
   "id": "f16bf8ce",
   "metadata": {},
   "outputs": [],
   "source": [
    "p_data = data.copy()\n",
    "columns = ['radius', 'mass']\n",
    "p_data[columns] = numpy.log10(p_data[columns])\n",
    "p_data = p_data[(p_data['radius'] < numpy.log10(11.1))].copy()\n",
    "p_data = p_data.reset_index(drop = True)\n",
    "p_data"
   ]
  },
  {
   "cell_type": "code",
   "execution_count": null,
   "id": "9b6f7d91",
   "metadata": {},
   "outputs": [],
   "source": [
    "p_data['ExoRM'] = 10 ** erm(p_data['radius'])\n",
    "p_data['Forecaster'] = 10 ** ForecasterRM.forecaster(p_data['radius'])\n",
    "p_data['l_mass'] = 10 ** p_data['mass']\n",
    "p_data['l_radius'] = 10 ** p_data['radius']\n",
    "p_data['ExoRM res'] = (p_data['l_mass'] - p_data['ExoRM'])\n",
    "p_data['Forecaster res'] = (p_data['l_mass'] - p_data['Forecaster'])\n",
    "\n",
    "p_data['name_len'] = p_data['name'].str.len()\n",
    "p_data = p_data.sort_values(\n",
    "    by = ['name_len', 'name'],\n",
    ").reset_index(drop = True)\n",
    "p_data = p_data.drop(columns = ['name_len'])\n",
    "\n",
    "columns = ['l_radius', 'l_mass', 'ExoRM', 'Forecaster', 'ExoRM res', 'Forecaster res']\n",
    "\n",
    "p_data[columns] = p_data[columns].map(\n",
    "    lambda x: x if x == 0 or math.isnan(x) else round(x, (5 - 1) - int(math.floor(math.log10(abs(x)))))\n",
    ")\n",
    "\n",
    "p_data['Percent ExoRM err'] = 100 * (((p_data['ExoRM']) - (p_data['l_mass'])) / (p_data['l_mass'])).abs()\n",
    "p_data['Percent Forecaster err'] = 100 * (((p_data['Forecaster']) - (p_data['l_mass'])) / (p_data['l_mass'])).abs()\n",
    "\n",
    "p_data['SAPE ExoRM'] = 100 * (((p_data['ExoRM']) - (p_data['l_mass'])) / ((p_data['l_mass'] + p_data['ExoRM']) / 2)).abs()\n",
    "p_data['SAPE Forecaster'] = 100 * (((p_data['Forecaster']) - (p_data['l_mass'])) / ((p_data['l_mass'] + p_data['Forecaster']) / 2)).abs()\n",
    "\n",
    "p_data['ExoRM lerr'] = ((p_data['ExoRM']) - (p_data['l_mass'])).abs()\n",
    "p_data['Forecaster lerr'] = ((p_data['Forecaster']) - (p_data['l_mass'])).abs()\n",
    "\n",
    "p_data['winner'] = p_data.apply(\n",
    "    lambda x: 'ExoRM' if x['Percent ExoRM err'] < x['Percent Forecaster err'] else 'Forecaster', axis = 1\n",
    ")\n",
    "\n",
    "if save: p_data[['name'] + columns + ['winner']].to_csv(f'{path}/ExoRM_results.csv', index = False)\n",
    "\n",
    "p_data.head(10)"
   ]
  },
  {
   "cell_type": "code",
   "execution_count": null,
   "id": "a9907e88",
   "metadata": {},
   "outputs": [],
   "source": [
    "p_data[['Percent ExoRM err', 'Percent Forecaster err', 'SAPE ExoRM', 'SAPE Forecaster', 'ExoRM res', 'Forecaster res', 'ExoRM lerr', 'Forecaster lerr']].abs().describe()"
   ]
  },
  {
   "cell_type": "code",
   "execution_count": null,
   "id": "2b145de3",
   "metadata": {},
   "outputs": [],
   "source": [
    "p_data['winner'].value_counts() / len(p_data), (p_data['winner'].value_counts()['ExoRM'] / len(p_data)) - (p_data['winner'].value_counts()['Forecaster'] / len(p_data))"
   ]
  },
  {
   "cell_type": "code",
   "execution_count": null,
   "id": "15b88296",
   "metadata": {},
   "outputs": [],
   "source": [
    "_x = x[x < numpy.log10(11.1)]\n",
    "numpy.mean(erm(_x) - ForecasterRM.forecaster(_x))\n",
    "# average change metween two models in the < 11.1 radius"
   ]
  },
  {
   "cell_type": "code",
   "execution_count": null,
   "id": "7bfd555f",
   "metadata": {},
   "outputs": [],
   "source": [
    "comparison = pandas.DataFrame(\n",
    "    [[10 ** numpy.mean(erm(_x)), 10 ** numpy.mean(ForecasterRM.forecaster(_x))],\n",
    "     [p_data['ExoRM lerr'].mean(), p_data['Forecaster lerr'].mean()],\n",
    "     [p_data['ExoRM lerr'].max(), p_data['Forecaster lerr'].max()],\n",
    "     [p_data['Percent ExoRM err'].mean(), p_data['Percent Forecaster err'].mean()],\n",
    "     [p_data['Percent ExoRM err'].median(), p_data['Percent Forecaster err'].median()],\n",
    "     [p_data['SAPE ExoRM'].mean(), p_data['SAPE Forecaster'].mean()],\n",
    "     ],\n",
    "    columns = ['ExoRM', 'Forecaster'])\n",
    "\n",
    "comparison['Difference'] = comparison['ExoRM'] - comparison['Forecaster']\n",
    "\n",
    "comparison = comparison.map(\n",
    "    lambda x: x if x == 0 or math.isnan(x) else round(x, (5 - 1) - int(math.floor(math.log10(abs(x)))))\n",
    ")\n",
    "\n",
    "if save: comparison.to_csv(f'{path}/filtered_comparison.csv', index = False)\n",
    "\n",
    "comparison"
   ]
  },
  {
   "cell_type": "code",
   "execution_count": null,
   "id": "de45ead8",
   "metadata": {},
   "outputs": [],
   "source": [
    "p_data_long = pandas.melt(\n",
    "    p_data,\n",
    "    value_vars = ['ExoRM lerr', 'Forecaster lerr'],\n",
    "    var_name = 'Model',\n",
    "    value_name = 'Error (M$_{\\\\oplus}$)'\n",
    ")\n",
    "\n",
    "p_data_long['Model'] = p_data_long['Model'].map(lambda x: 'ExoRM' if x == 'ExoRM lerr' else 'Forecaster')\n",
    "\n",
    "ax = seaborn.boxplot(data = p_data_long, x = 'Model', y = 'Error (M$_{\\\\oplus}$)', hue = 'Model', palette = 'viridis', zorder = 1, whis = 1.5, showfliers = False)\n",
    "\n",
    "plot.title('Error by Model (Radius ≤ 11.1 R$_{\\\\oplus}$)\\n(Outliers Not Displayed)')\n",
    "# plot.yscale('log')\n",
    "\n",
    "if save: plot.savefig(f'{path}/Figure 3.jpeg')\n",
    "\n",
    "plot.show()"
   ]
  },
  {
   "cell_type": "code",
   "execution_count": null,
   "id": "2ccaf29a",
   "metadata": {},
   "outputs": [],
   "source": [
    "from scipy.stats import ttest_rel\n",
    "\n",
    "stat, p = ttest_rel(p_data['ExoRM lerr'], p_data['Forecaster lerr'])\n",
    "stat, p"
   ]
  },
  {
   "cell_type": "code",
   "execution_count": null,
   "id": "5cdd987a",
   "metadata": {},
   "outputs": [],
   "source": [
    "p_data_long = pandas.melt(\n",
    "    p_data,\n",
    "    value_vars = ['Percent ExoRM err', 'Percent Forecaster err'],\n",
    "    var_name = 'Model',\n",
    "    value_name = 'Absolute Percent Error (%)'\n",
    ")\n",
    "\n",
    "p_data_long['Model'] = p_data_long['Model'].map(lambda x: 'ExoRM' if x == 'Percent ExoRM err' else 'Forecaster')\n",
    "\n",
    "ax = seaborn.boxplot(data = p_data_long, x = 'Model', y = 'Absolute Percent Error (%)', hue = 'Model', palette = 'viridis', zorder = 1, whis = 1.5, showfliers = True, log_scale = True)\n",
    "\n",
    "plot.title('Percent Error by Model (Radius ≤ 11.1 R$_{\\\\oplus}$)')\n",
    "\n",
    "plot.show()\n",
    "\n",
    "p_data_long"
   ]
  },
  {
   "cell_type": "code",
   "execution_count": null,
   "id": "b2db8f4c",
   "metadata": {},
   "outputs": [],
   "source": [
    "exoplanet_data = read_rm_data()\n",
    "exoplanet_data = preprocess_data(exoplanet_data)\n",
    "new_exoplanet_data = exoplanet_data[exoplanet_data['pl_pubdate'] >= '2018']\n",
    "old_exoplanet_data = exoplanet_data[exoplanet_data['pl_pubdate'] < '2018']\n",
    "new_exoplanet_data, old_exoplanet_data"
   ]
  },
  {
   "cell_type": "code",
   "execution_count": null,
   "id": "c3b4b40f",
   "metadata": {},
   "outputs": [],
   "source": [
    "len(new_exoplanet_data) / len(exoplanet_data)"
   ]
  },
  {
   "cell_type": "code",
   "execution_count": null,
   "id": "9be2e4d6",
   "metadata": {},
   "outputs": [],
   "source": [
    "plot.scatter(old_exoplanet_data['radius'], old_exoplanet_data['mass'], marker = 'o', alpha = 0.5)\n",
    "plot.scatter(new_exoplanet_data['radius'], new_exoplanet_data['mass'], marker = 's', alpha = 0.5)\n",
    "\n",
    "plot.legend(['Unchanged since 2017', 'Updated after 2017'])\n",
    "plot.xlabel('Radius (R$_{\\\\oplus}$)')\n",
    "plot.ylabel('Mass (M$_{\\\\oplus}$)')\n",
    "plot.title('Best Available Exoplanet Data')\n",
    "\n",
    "plot.loglog()\n",
    "\n",
    "if save: plot.savefig(f'{path}/Figure 1.jpeg')\n",
    "\n",
    "plot.show()"
   ]
  },
  {
   "cell_type": "code",
   "execution_count": null,
   "id": "b6c6dcfe",
   "metadata": {},
   "outputs": [],
   "source": [
    "import arviz\n",
    "# arviz.plot_pair(\n",
    "#     erm.trace,\n",
    "#     var_names = ['ell', 'eta', 'ell_sigma', 'eta_sigma'],\n",
    "#     kind = 'kde',\n",
    "#     marginals = True\n",
    "# )\n",
    "\n",
    "plot.show()"
   ]
  }
 ],
 "metadata": {
  "kernelspec": {
   "display_name": ".venv",
   "language": "python",
   "name": "python3"
  },
  "language_info": {
   "codemirror_mode": {
    "name": "ipython",
    "version": 3
   },
   "file_extension": ".py",
   "mimetype": "text/x-python",
   "name": "python",
   "nbconvert_exporter": "python",
   "pygments_lexer": "ipython3",
   "version": "3.12.3"
  }
 },
 "nbformat": 4,
 "nbformat_minor": 5
}
